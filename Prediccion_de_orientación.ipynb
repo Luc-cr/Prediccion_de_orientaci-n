{
  "nbformat": 4,
  "nbformat_minor": 0,
  "metadata": {
    "colab": {
      "provenance": [],
      "collapsed_sections": [],
      "include_colab_link": true
    },
    "kernelspec": {
      "name": "python3",
      "display_name": "Python 3"
    },
    "language_info": {
      "name": "python"
    }
  },
  "cells": [
    {
      "cell_type": "markdown",
      "metadata": {
        "id": "view-in-github",
        "colab_type": "text"
      },
      "source": [
        "<a href=\"https://colab.research.google.com/github/Luc-cr/Prediccion_de_orientacion/blob/main/Prediccion_de_orientaci%C3%B3n.ipynb\" target=\"_parent\"><img src=\"https://colab.research.google.com/assets/colab-badge.svg\" alt=\"Open In Colab\"/></a>"
      ]
    },
    {
      "cell_type": "markdown",
      "source": [
        "# Prediccion De Orientaciones de ORT\n",
        "### __OBJETIVO__: Crear una IA la cual sea capaz de recomendarte una orientacion\n",
        "\n",
        "\n",
        "#### [Form](https://forms.gle/9im8DCpwdCJEigsj7)"
      ],
      "metadata": {
        "id": "j0JsBwA2UbRz"
      }
    },
    {
      "cell_type": "markdown",
      "source": [
        "# __IMPORTS__"
      ],
      "metadata": {
        "id": "I_ddEUWXV4f1"
      }
    },
    {
      "cell_type": "code",
      "execution_count": null,
      "metadata": {
        "id": "dY26_SXKUQ--"
      },
      "outputs": [],
      "source": [
        "import numpy as np\n",
        "import matplotlib.pyplot as plt\n",
        "import pandas as pd\n",
        "from random import uniform\n",
        "import json"
      ]
    },
    {
      "cell_type": "markdown",
      "source": [
        "# __Data Extraction__"
      ],
      "metadata": {
        "id": "Ajk0C8owWA6i"
      }
    },
    {
      "cell_type": "code",
      "source": [
        "df = pd.read_csv('Cuestionario de orientaciones de ORT.csv') # Cargado de los datos\n",
        "df.pop('Marca temporal') # No interesa\n",
        "header = df.columns # Obtener las columnas"
      ],
      "metadata": {
        "id": "4QDGJienUayP"
      },
      "execution_count": null,
      "outputs": []
    },
    {
      "cell_type": "code",
      "source": [
        "ori = {\"Gestión\": [uniform(0.9,1),uniform(0,0.3),uniform(0,0.3),uniform(0,0.3),uniform(0,0.3)], \n",
        "       \"TIC\": [uniform(0,0.3),uniform(0.9,1),uniform(0,0.3),uniform(0,0.3),uniform(0,0.3)], \n",
        "       \"Medios\":[uniform(0,0.3),uniform(0,0.3),uniform(0.9,1),uniform(0,0.3),uniform(0,0.3)], \n",
        "       \"Humanidades\":[uniform(0,0.3),uniform(0,0.3),uniform(0,0.3),uniform(0.9,1),uniform(0,0.3)], \n",
        "       \"Diseño\":[uniform(0,0.3),uniform(0,0.3),uniform(0,0.3),uniform(0,0.3),uniform(0.9,1)]}\n",
        "\n",
        "def Convert_Matrix(num):# Convierte la data en un vector el cual va a funcionar como input\n",
        "  y = np.asanyarray(ori[df[header[0]][num]])\n",
        "  x = []\n",
        "\n",
        "  for i in header[3:18]:\n",
        "    x.append(float(df[i][num] / 5))\n",
        "\n",
        "  for i in header[19:]:\n",
        "    data = df[i][0]\n",
        "  \n",
        "    if data == 'Si':\n",
        "      x.append(1.0)\n",
        "    if data == 'No':\n",
        "      x.append(0.0)\n",
        "  \n",
        "  return np.asarray(x)[np.newaxis],y"
      ],
      "metadata": {
        "id": "e1dcmzcz6SEc"
      },
      "execution_count": null,
      "outputs": []
    },
    {
      "cell_type": "markdown",
      "source": [
        "# __IA__ (LFlow)"
      ],
      "metadata": {
        "id": "zfMsSiV0BVSs"
      }
    },
    {
      "cell_type": "code",
      "source": [
        "class Functions():\n",
        "  sigmoid = (lambda x: 1 / (1 + np.e ** (-x)),\n",
        "        lambda x: x * (1 - x))\n",
        "  relu = (lambda x: np.maximum(0,x),\n",
        "        lambda x: (x > 0) * 1)\n",
        "  f_error = (lambda x,y: np.mean((x-y)**2),\n",
        "             lambda x,y: (x-y))\n",
        "  tanh = (lambda x: (2/(1+ np.e **(-2*x)))-1,\n",
        "        lambda x: 2/np.e ** x + np.e ** -x)\n",
        "  umbral = lambda x: (x >0) * 1\n",
        "  none = (lambda x: x, lambda x: 1)\n",
        "  def softmax(x):\n",
        "    exponential = np.exp(x)\n",
        "    probabilities = exponential / np.sum(exponential)\n",
        "    return probabilities"
      ],
      "metadata": {
        "id": "xLEECQVc-34h"
      },
      "execution_count": null,
      "outputs": []
    },
    {
      "cell_type": "code",
      "source": [
        "class NeuralLayer():\n",
        "  def __init__(self, connections, neurons, f_activ):\n",
        "    self.f_activ = f_activ\n",
        "    \n",
        "    self.w = np.random.rand(connections, neurons)\n",
        "    self.b = np.random.rand(1, neurons)\n",
        "    \n",
        "class NeuralLayer_load():\n",
        "  def __init__(self, f_activ, w,b):\n",
        "    self.f_activ = f_activ\n",
        "    \n",
        "    self.w = w\n",
        "    self.b = b"
      ],
      "metadata": {
        "id": "v4OVV7hfcWdK"
      },
      "execution_count": null,
      "outputs": []
    },
    {
      "cell_type": "code",
      "source": [
        "class LF():\n",
        "  def Create_NeuralNetwork(self, topology : tuple, f_activ : tuple) -> list:\n",
        "    self.NN = []\n",
        "    for i, layer in enumerate(topology[1:]):\n",
        "      self.NN.append(NeuralLayer(topology[i], layer, f_activ[i]))\n",
        "    return self.NN\n",
        "\n",
        "  def Foward_Pass(self,x) -> list:\n",
        "    self.out = [[None,x]]\n",
        "    for i, layer in enumerate(self.NN):\n",
        "      linear = self.out[i][1] @ layer.w + layer.b\n",
        "      func = layer.f_activ[0](linear)\n",
        "      self.out.append([linear, func])\n",
        "    return self.out[-1][1]\n",
        "\n",
        "  def Backward_Pass(self, y, lr: int) -> float:\n",
        "    deltas = []\n",
        "    for i in reversed(range(0,len(self.NN))):\n",
        "      if i == len(self.NN) - 1:\n",
        "        deltas.insert(0, Functions.f_error[1](self.out[-1][1], y) * self.NN[i].f_activ[1](self.out[-1][1]))\n",
        "      else:\n",
        "        deltas.insert(0, deltas[0] @ np.transpose(_w) * self.NN[i].f_activ[1](self.out[i + 1][1]))\n",
        "      _w = self.NN[i].w\n",
        "      \n",
        "\n",
        "      self.NN[i].b = self.NN[i].b - np.mean(deltas[0]) * lr \n",
        "      self.NN[i].w = self.NN[i].w - self.out[i][1].T @ deltas[0] * lr\n",
        "    \n",
        "    return Functions.f_error[0](self.out[-1][1],y) \n",
        "  \n",
        "  def Export_model(self, topology, f_active):\n",
        "    model = {\"topology\" : topology, \"f_active\": f_active}\n",
        "    for i, layer in enumerate(self.NN):\n",
        "      model[i + 1] = {\"weight\": layer.w.tolist(), \"bayes\": layer.b.tolist()} \n",
        "    return json.dumps(model)\n",
        "  \n",
        "  def Import_model(self, file):\n",
        "    funs = {\"sigm\": Functions.sigmoid, \"relu\": Functions.relu, \"tanh\": Functions.tanh, \"umbral\": Functions.umbral, \"none\": Functions.none}\n",
        "    load = json.load(file)\n",
        "    topology=load['topology']\n",
        "    f_active=load['f_active']\n",
        "    self.NN = []\n",
        "    for i, layer in enumerate(topology[1:]):\n",
        "      self.NN.append(NeuralLayer_load(funs[f_active[i]],load[str(i + 1)]['weight'],load[str(i + 1)]['bayes']))\n",
        "    return self.NN"
      ],
      "metadata": {
        "id": "NITvjSqhcYra"
      },
      "execution_count": null,
      "outputs": []
    },
    {
      "cell_type": "markdown",
      "source": [
        "# __Codigo de la IA__"
      ],
      "metadata": {
        "id": "m-XHsg_Yc4_m"
      }
    },
    {
      "cell_type": "code",
      "source": [
        "# IMPORTANTE\n",
        "epochs = 10000 # Controla las veces que la inteligencia artificial va a repetirse\n",
        "\n",
        "#--------\n",
        "LFlow = LF()\n",
        "z = 0\n",
        "x = []\n",
        "y = []\n",
        "topology = [20,10,10,5] # El estilo de la Red Neuronal\n",
        "f_layers = [Functions.sigmoid, Functions.sigmoid, Functions.sigmoid] # Las funciones de activacion que tienen cada capa\n",
        "\n",
        "for i in range(0, df.shape[0]):\n",
        "  x.append(Convert_Matrix(i)[0])\n",
        "  y.append(Convert_Matrix(i)[1])\n",
        "LFlow.Create_NeuralNetwork(topology, f_layers) # Creamos la red neuronal \n",
        "f_error = []\n",
        "while z < epochs:\n",
        "  error = []\n",
        "  for i in range(0, df.shape[0]):\n",
        "    LFlow.Foward_Pass(x[i])\n",
        "    error.append(LFlow.Backward_Pass(y[i], 1))\n",
        "  f_error.append(np.mean(error))\n",
        "  z += 1\n",
        "print(\"---Entrenado---\")\n",
        "print(\"Error final: \", f_error[-1])\n",
        "plt.plot(f_error)\n",
        "plt.title(\"Error en funcion del tiempo\")\n",
        "plt.xlabel(\"EPOCHS\")\n",
        "plt.ylabel(\"ERROR\")\n",
        "plt.show()"
      ],
      "metadata": {
        "colab": {
          "base_uri": "https://localhost:8080/",
          "height": 331
        },
        "id": "MSSA3FWgc-0W",
        "outputId": "29abf13b-f5f5-464e-9c0a-ae1cc07a9e19"
      },
      "execution_count": null,
      "outputs": [
        {
          "output_type": "stream",
          "name": "stdout",
          "text": [
            "---Entrenado---\n",
            "Error final:  2.851373290028961e-05\n"
          ]
        },
        {
          "output_type": "display_data",
          "data": {
            "text/plain": [
              "<Figure size 432x288 with 1 Axes>"
            ],
            "image/png": "[encoded data removed]"
          },
          "metadata": {
            "needs_background": "light"
          }
        }
      ]
    },
    {
      "cell_type": "markdown",
      "source": [
        "# __Test Data__"
      ],
      "metadata": {
        "id": "Euw1eS_EdhMj"
      }
    },
    {
      "cell_type": "code",
      "source": [
        "z = 1\n",
        "x,y = Convert_Matrix(z)\n",
        "print(df['¿Cual es tu Orientación?'][z])\n",
        "print(LFlow.Foward_Pass(x))"
      ],
      "metadata": {
        "id": "lPMN2cHYdzTD",
        "colab": {
          "base_uri": "https://localhost:8080/"
        },
        "outputId": "85494d8e-c6cc-4431-b7be-7ff35407e269"
      },
      "execution_count": null,
      "outputs": [
        {
          "output_type": "stream",
          "name": "stdout",
          "text": [
            "TIC\n",
            "[[0.0660352  0.93381751 0.268466   0.06199439 0.26147232]]\n"
          ]
        }
      ]
    },
    {
      "cell_type": "markdown",
      "source": [
        "# __Save Data__"
      ],
      "metadata": {
        "id": "vkKY6b8zDyfE"
      }
    },
    {
      "cell_type": "code",
      "source": [
        "file = open(\"NeuralNetwork.nn\", \"w\")\n",
        "file.write(LFlow.Export_model(topology,[\"sigm\",\"sigm\",\"sigm\"]))\n",
        "file.close()"
      ],
      "metadata": {
        "id": "Tviwtj7jC4Of"
      },
      "execution_count": null,
      "outputs": []
    }
  ]
}